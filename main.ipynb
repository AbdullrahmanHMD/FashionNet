{
 "cells": [
  {
   "cell_type": "code",
   "execution_count": 6,
   "id": "6cdffd50-7308-46cc-a104-0fd77ad79921",
   "metadata": {},
   "outputs": [],
   "source": [
    "%load_ext autoreload\n",
    "%autoreload 2"
   ]
  },
  {
   "cell_type": "code",
   "execution_count": 19,
   "id": "7f7f1428-8988-47da-bbd6-15a599419de6",
   "metadata": {},
   "outputs": [],
   "source": [
    "from model import FashionNet\n",
    "from train import train\n",
    "from utils import load_data\n",
    "from torch.optim import Adam\n",
    "import torch.nn as nn"
   ]
  },
  {
   "cell_type": "code",
   "execution_count": 20,
   "id": "b6001cdd-56f5-4c11-ae35-b2b19de433a5",
   "metadata": {},
   "outputs": [],
   "source": [
    "IMAGE_SIZE = 28\n",
    "NUM_CLASSES = 10\n",
    "\n",
    "train_batch_size = 124\n",
    "validation_batch_size = 256\n",
    "\n",
    "epochs = 30"
   ]
  },
  {
   "cell_type": "code",
   "execution_count": 21,
   "id": "3115b946-0fc8-47cd-8093-aa0f65c85855",
   "metadata": {},
   "outputs": [],
   "source": [
    "train_loader, validation_loader = load_data(train_batch_size, validation_batch_size, IMAGE_SIZE)"
   ]
  },
  {
   "cell_type": "code",
   "execution_count": 22,
   "id": "5c677f56-265e-4c1d-8ae5-e2a4322c7310",
   "metadata": {},
   "outputs": [],
   "source": [
    "model = FashionNet(number_of_classes=NUM_CLASSES, image_size=IMAGE_SIZE, batch_size=train_batch_size)"
   ]
  },
  {
   "cell_type": "code",
   "execution_count": 23,
   "id": "950a9d5d-dc89-4acc-8c16-967b1635aae1",
   "metadata": {},
   "outputs": [],
   "source": [
    "criterion = nn.CrossEntropyLoss()"
   ]
  },
  {
   "cell_type": "code",
   "execution_count": 24,
   "id": "7eb3a96f-5ab0-42c1-a926-d78a2571e4f1",
   "metadata": {},
   "outputs": [],
   "source": [
    "learning_rate = 1e-3\n",
    "weight_decay = 5e-4\n",
    "\n",
    "optimizer = Adam(model.parameters(), lr=learning_rate, weight_decay=weight_decay, amsgrad=True)"
   ]
  },
  {
   "cell_type": "code",
   "execution_count": 25,
   "id": "f5d2056a-2b61-4d8e-bbf7-cdcfd0bc51af",
   "metadata": {},
   "outputs": [
    {
     "name": "stdout",
     "output_type": "stream",
     "text": [
      "Loss: 258.02 | Epoch: 0\n",
      "Loss: 194.26 | Epoch: 1\n",
      "Loss: 157.41 | Epoch: 2\n",
      "Loss: 135.10 | Epoch: 3\n",
      "Loss: 125.09 | Epoch: 4\n",
      "Loss: 115.46 | Epoch: 5\n",
      "Loss: 108.97 | Epoch: 6\n",
      "Loss: 107.14 | Epoch: 7\n",
      "Loss: 101.96 | Epoch: 8\n",
      "Loss: 99.79 | Epoch: 9\n",
      "Loss: 96.57 | Epoch: 10\n",
      "Loss: 95.17 | Epoch: 11\n",
      "Loss: 92.81 | Epoch: 12\n",
      "Loss: 91.71 | Epoch: 13\n",
      "Loss: 89.67 | Epoch: 14\n",
      "Loss: 89.04 | Epoch: 15\n",
      "Loss: 86.22 | Epoch: 16\n",
      "Loss: 86.22 | Epoch: 17\n",
      "Loss: 85.26 | Epoch: 18\n",
      "Loss: 85.38 | Epoch: 19\n",
      "Loss: 83.20 | Epoch: 20\n",
      "Loss: 81.57 | Epoch: 21\n",
      "Loss: 83.37 | Epoch: 22\n",
      "Loss: 82.77 | Epoch: 23\n",
      "Loss: 81.43 | Epoch: 24\n",
      "Loss: 79.96 | Epoch: 25\n",
      "Loss: 77.64 | Epoch: 26\n",
      "Loss: 79.39 | Epoch: 27\n",
      "Loss: 78.94 | Epoch: 28\n",
      "Loss: 77.50 | Epoch: 29\n"
     ]
    }
   ],
   "source": [
    "total_loss = train(model, train_loader, optimizer, criterion, epochs)"
   ]
  },
  {
   "cell_type": "code",
   "execution_count": 26,
   "id": "86527d45-046d-408e-a6c1-752b2c9a7dc2",
   "metadata": {},
   "outputs": [],
   "source": [
    "from eval import evaluate"
   ]
  },
  {
   "cell_type": "code",
   "execution_count": 27,
   "id": "a3775068-9190-42fe-9bd1-33cc91bb760b",
   "metadata": {},
   "outputs": [
    {
     "name": "stdout",
     "output_type": "stream",
     "text": [
      "Accuracy: 85.23%\t |\tEpoch: 0\n",
      "Accuracy: 85.67%\t |\tEpoch: 1\n",
      "Accuracy: 86.66%\t |\tEpoch: 2\n",
      "Accuracy: 87.37%\t |\tEpoch: 3\n",
      "Accuracy: 87.78%\t |\tEpoch: 4\n",
      "Accuracy: 88.24%\t |\tEpoch: 5\n",
      "Accuracy: 88.70%\t |\tEpoch: 6\n",
      "Accuracy: 88.44%\t |\tEpoch: 7\n",
      "Accuracy: 88.82%\t |\tEpoch: 8\n",
      "Accuracy: 88.84%\t |\tEpoch: 9\n",
      "Accuracy: 88.82%\t |\tEpoch: 10\n",
      "Accuracy: 89.01%\t |\tEpoch: 11\n",
      "Accuracy: 88.82%\t |\tEpoch: 12\n",
      "Accuracy: 88.78%\t |\tEpoch: 13\n",
      "Accuracy: 89.03%\t |\tEpoch: 14\n",
      "Accuracy: 89.20%\t |\tEpoch: 15\n",
      "Accuracy: 89.04%\t |\tEpoch: 16\n",
      "Accuracy: 88.82%\t |\tEpoch: 17\n",
      "Accuracy: 89.28%\t |\tEpoch: 18\n",
      "Accuracy: 89.25%\t |\tEpoch: 19\n",
      "Accuracy: 89.25%\t |\tEpoch: 20\n",
      "Accuracy: 89.00%\t |\tEpoch: 21\n",
      "Accuracy: 88.94%\t |\tEpoch: 22\n",
      "Accuracy: 89.43%\t |\tEpoch: 23\n",
      "Accuracy: 89.00%\t |\tEpoch: 24\n",
      "Accuracy: 89.52%\t |\tEpoch: 25\n",
      "Accuracy: 88.79%\t |\tEpoch: 26\n",
      "Accuracy: 89.41%\t |\tEpoch: 27\n",
      "Accuracy: 89.24%\t |\tEpoch: 28\n",
      "Accuracy: 89.24%\t |\tEpoch: 29\n"
     ]
    }
   ],
   "source": [
    "total_accuracy = evaluate(model, validation_loader, epochs)"
   ]
  },
  {
   "cell_type": "code",
   "execution_count": 28,
   "id": "720b1998-aabb-41bc-99b4-f2dffe91f6a4",
   "metadata": {},
   "outputs": [],
   "source": [
    "import matplotlib.pyplot as plt"
   ]
  },
  {
   "cell_type": "markdown",
   "id": "59373e72-6d9a-4404-bf51-e470c9d3e33f",
   "metadata": {},
   "source": [
    "### Plotting Loss"
   ]
  },
  {
   "cell_type": "code",
   "execution_count": 29,
   "id": "9896597c-06f5-4f11-a791-bf75383dad17",
   "metadata": {},
   "outputs": [
    {
     "data": {
      "image/png": "[encoded data removed]",
      "text/plain": [
       "<Figure size 432x288 with 1 Axes>"
      ]
     },
     "metadata": {
      "needs_background": "light"
     },
     "output_type": "display_data"
    }
   ],
   "source": [
    "plt.title(\"Loss\")\n",
    "plt.xlabel(\"Epochs\")\n",
    "plt.ylabel(\"Loss\")\n",
    "plt.plot(total_loss)\n",
    "\n",
    "plt.show()"
   ]
  },
  {
   "cell_type": "markdown",
   "id": "fc381d32-d40c-4e34-928d-7efd9537b4c4",
   "metadata": {},
   "source": [
    "### Plotting Accuracy"
   ]
  },
  {
   "cell_type": "code",
   "execution_count": 30,
   "id": "92dda709-d1bf-4254-8098-e942bf59a737",
   "metadata": {},
   "outputs": [
    {
     "data": {
      "image/png": "[encoded data removed]",
      "text/plain": [
       "<Figure size 432x288 with 1 Axes>"
      ]
     },
     "metadata": {
      "needs_background": "light"
     },
     "output_type": "display_data"
    }
   ],
   "source": [
    "plt.title(\"Accuracy\")\n",
    "plt.xlabel(\"Epochs\")\n",
    "plt.ylabel(\"Accuracy\")\n",
    "plt.plot(total_accuracy)\n",
    "\n",
    "plt.show()"
   ]
  }
 ],
 "metadata": {
  "kernelspec": {
   "display_name": "Python 3 (ipykernel)",
   "language": "python",
   "name": "python3"
  },
  "language_info": {
   "codemirror_mode": {
    "name": "ipython",
    "version": 3
   },
   "file_extension": ".py",
   "mimetype": "text/x-python",
   "name": "python",
   "nbconvert_exporter": "python",
   "pygments_lexer": "ipython3",
   "version": "3.9.7"
  }
 },
 "nbformat": 4,
 "nbformat_minor": 5
}
